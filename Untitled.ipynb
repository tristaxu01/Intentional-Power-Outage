{
 "cells": [
  {
   "cell_type": "markdown",
   "id": "4c3a8393",
   "metadata": {},
   "source": [
    "<iframe src=\"assets/state_fig.html\" width=800 height=600 frameBorder=0></iframe>"
   ]
  },
  {
   "cell_type": "markdown",
   "id": "5a51dc70",
   "metadata": {},
   "source": [
    "# Data Cleaning\n",
    "First, we identify and drop redundant information: The raw dataframe contains several columns or rows of NaN values that do not provide any useful information for the analysis. Removing redundant columns can improve processing times and reduce noise in the data.\n",
    "\n",
    "Secondly, we identify and convert data to the correct types: If the data contains datatypes that do not match the data value (e.g., an integer value with a string type), they should be converted to the desired datatype to ensure consistency of the dataframe and prevent errors when performing calculations or data aggregation.\n",
    "\n",
    "Alongside, we consolidate rows with repetitive information: The raw data separates each column title and its corresponding units. The information about units needs to be combined into the same row for what it is describing. This makes the data easier to work with and avoids confusion when analyzing the data.\n",
    "\n",
    "Similarly, our team also found several columns describing time objects but separate day and time. Merging that information allows for more accurate and precise analysis of time-related data.\n",
    "\n",
    "Lastly, we rename columns: Many column names from the raw dataframe were abbreviations and ambiguous. During the cleaning process, they were renamed to names that are easier to understand and interpret.\n",
    "\n",
    "The impact of these data cleaning steps on subsequent analyses will depend on the specific research question and the nature of the data. However, in general, cleaning the data can help ensure accuracy and consistency in the analysis, reduce errors and noise in the data, and make the data easier to work with and interpret. Ultimately, the goal of data cleaning is to improve the quality and reliability of the data for analysis.\n"
   ]
  },
  {
   "cell_type": "markdown",
   "id": "b50aaa1d",
   "metadata": {},
   "source": [
    "# Univariate Analysis\n",
    "#### Figure 1\n",
    "<iframe src=\"assets/state_fig.html\" width=800 height=600 frameBorder=0></iframe>\n",
    "Figure 1 plot counts the total amount of power outage occurrences in different states.\n",
    "\n",
    "#### Figure 2\n",
    "<iframe src=\"assets/cause_fig.html\" width=800 height=600 frameBorder=0></iframe>\n",
    "Figure 2 indicates the percentage of categories of all the events causing the major power outages.\n",
    "\n",
    "\n",
    "#### Figure 3\n",
    "<iframe src=\"assets/res_price_fig.html\" width=800 height=600 frameBorder=0></iframe>\n",
    "Figure 2 shows the distribution of resident power price with unit in cents per kilowatt-hour. "
   ]
  },
  {
   "cell_type": "markdown",
   "id": "ce56773c",
   "metadata": {},
   "source": [
    "# Bivariate Analysis\n"
   ]
  },
  {
   "cell_type": "markdown",
   "id": "423bf387",
   "metadata": {},
   "source": [
    "## NMAR Analysis\n",
    "After analyzing the cleaned dataset, our team has determined that the column **\"OUTAGE.RESTORATION (Y-M-D time)\"** is **N**ot **M**issing **A**t **R**andom. This column indicates the time when power is restored in the outage region. However, due to the nature of power restoration, which may occur gradually by neighborhood over a period of several hours, it is not always possible to record the exact restoration time as a fixed point in time. Consequently, in some instances, the restoration time has been recorded as NaN in the dataframe."
   ]
  },
  {
   "cell_type": "markdown",
   "id": "b18256d8",
   "metadata": {},
   "source": [
    "# Hypothesis Testing\n",
    "\n",
    "### Null Hypothesis: \n",
    "Null Hypothesis: The distribution of residential electricity prices and the number of power outages caused by intentional attack is not different. Any differences observed in our samples are due to random chance.\n",
    "\n",
    "### Alternative Hypothesis\n",
    "A higher residential electricity price leads to more power outages caused by intentional attack. Any differences observed in our samples are not due to random chance.\n",
    "\n",
    "To test these hypotheses, we use the difference in power outage occurrence between the high electricity price region (i.e., the region that pays the top 25% of electricity prices in the US) and the lower electricity price region (i.e., the region that pays less than the top 25% of electricity prices in the US) as our test statistic."
   ]
  },
  {
   "cell_type": "code",
   "execution_count": null,
   "id": "2bb9b601",
   "metadata": {},
   "outputs": [],
   "source": []
  }
 ],
 "metadata": {
  "kernelspec": {
   "display_name": "Python 3 (ipykernel)",
   "language": "python",
   "name": "python3"
  },
  "language_info": {
   "codemirror_mode": {
    "name": "ipython",
    "version": 3
   },
   "file_extension": ".py",
   "mimetype": "text/x-python",
   "name": "python",
   "nbconvert_exporter": "python",
   "pygments_lexer": "ipython3",
   "version": "3.8.15"
  }
 },
 "nbformat": 4,
 "nbformat_minor": 5
}
